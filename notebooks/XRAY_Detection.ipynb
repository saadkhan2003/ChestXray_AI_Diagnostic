{
  "cells": [
    {
      "cell_type": "markdown",
      "id": "9e4ba9bc",
      "metadata": {
        "id": "9e4ba9bc"
      },
      "source": [
        "# 🫁 Chest X-ray Disease Detection System\n",
        "\n",
        "## Using Pre-trained Models + Gradio Web App\n",
        "\n",
        "**Author**: Muhammad Saad Khan  \n",
        "**Date**: October 30, 2025\n",
        "\n",
        "---\n",
        "\n",
        "## \udccb What This Notebook Does:\n",
        "\n",
        "### Part 1: Setup & Configuration\n",
        "\n",
        "1. ✅ Mount Google Drive and set up project directory\n",
        "2. ✅ Ensure required packages are installed\n",
        "\n",
        "### Part 2: Web App (Instant!)\n",
        "\n",
        "3. ✅ Load pre-trained Pneumonia and COVID-19 models\n",
        "4. ✅ Launch Gradio web interface\n",
        "5. ✅ Upload X-rays and get predictions\n",
        "6. ✅ Beautiful UI with confidence scores\n",
        "7. ✅ Shareable public link!\n",
        "\n",
        "---\n",
        "\n",
        "## 🚀 Quick Start:\n",
        "\n",
        "1. **Enable GPU**: Runtime → Change runtime type → GPU\n",
        "2. **Ensure models are in Google Drive** (see Model Locations section)\n",
        "3. **Run all cells** in order\n",
        "4. **Get shareable link** to your app!\n",
        "\n",
        "---\n"
      ]
    },
    {
      "cell_type": "markdown",
      "id": "bba9e8c3",
      "metadata": {},
      "source": [
        "## ⚙️ PART 0: Setup & Configuration\n"
      ]
    },
    {
      "cell_type": "code",
      "execution_count": 1,
      "id": "78da4ec1",
      "metadata": {
        "colab": {
          "base_uri": "https://localhost:8080/"
        },
        "id": "78da4ec1",
        "outputId": "b251369c-c841-4575-e21d-511d4a42a083"
      },
      "outputs": [
        {
          "name": "stdout",
          "output_type": "stream",
          "text": [
            "🔍 System Check:\n",
            "============================================================\n",
            "TensorFlow version: 2.19.0\n",
            "GPU Available: False\n",
            "GPU Devices: []\n",
            "============================================================\n",
            "\n",
            "⚠️ WARNING: No GPU detected!\n",
            "Go to: Runtime → Change runtime type → GPU\n"
          ]
        }
      ],
      "source": [
        "# Check GPU availability\n",
        "import tensorflow as tf\n",
        "print(\"🔍 System Check:\")\n",
        "print(\"=\" * 60)\n",
        "print(f\"TensorFlow version: {tf.__version__}\")\n",
        "print(f\"GPU Available: {len(tf.config.list_physical_devices('GPU')) > 0}\")\n",
        "print(f\"GPU Devices: {tf.config.list_physical_devices('GPU')}\")\n",
        "print(\"=\" * 60)\n",
        "\n",
        "if not tf.config.list_physical_devices('GPU'):\n",
        "    print(\"\\n⚠️ WARNING: No GPU detected!\")\n",
        "    print(\"Go to: Runtime → Change runtime type → GPU\")\n",
        "else:\n",
        "    print(\"\\n✅ GPU is ready!\")"
      ]
    },
    {
      "cell_type": "code",
      "execution_count": 2,
      "id": "a922242c",
      "metadata": {
        "colab": {
          "base_uri": "https://localhost:8080/"
        },
        "id": "a922242c",
        "outputId": "dffb18d1-084a-4977-d9ec-6bac038c418a"
      },
      "outputs": [
        {
          "name": "stdout",
          "output_type": "stream",
          "text": [
            "📦 Installing required packages...\n",
            "✅ Packages installed!\n"
          ]
        }
      ],
      "source": [
        "# Install required packages\n",
        "print(\"📦 Installing required packages...\")\n",
        "!pip install -q gradio opencv-python-headless scikit-learn pillow matplotlib seaborn\n",
        "print(\"✅ Packages installed!\")"
      ]
    },
    {
      "cell_type": "markdown",
      "id": "2f5c00bc",
      "metadata": {
        "id": "2f5c00bc"
      },
      "source": [
        "# 🫁 Chest X-ray Disease Detection System\n",
        "\n",
        "## Using Pre-trained Models + Gradio Web App\n",
        "\n",
        "**Author**: Muhammad Saad Khan  \n",
        "**Date**: October 30, 2025\n",
        "\n",
        "---\n",
        "\n",
        "## \udccb What This Notebook Does:\n",
        "\n",
        "### Part 1: Setup & Configuration\n",
        "\n",
        "1. ✅ Mount Google Drive and set up project directory\n",
        "2. ✅ Ensure required packages are installed\n",
        "\n",
        "### Part 2: Web App (Instant!)\n",
        "\n",
        "3. ✅ Load pre-trained Pneumonia and COVID-19 models\n",
        "4. ✅ Launch Gradio web interface\n",
        "5. ✅ Upload X-rays and get predictions\n",
        "6. ✅ Beautiful UI with confidence scores\n",
        "7. ✅ Shareable public link!\n",
        "\n",
        "---\n",
        "\n",
        "## 🚀 Quick Start:\n",
        "\n",
        "1. **Enable GPU**: Runtime → Change runtime type → GPU\n",
        "2. **Ensure models are in Google Drive** (see Model Locations section)\n",
        "3. **Run all cells** in order\n",
        "4. **Get shareable link** to your app!\n",
        "\n",
        "---\n"
      ]
    },
    {
      "cell_type": "code",
      "execution_count": null,
      "id": "f994a300",
      "metadata": {
        "colab": {
          "base_uri": "https://localhost:8080/"
        },
        "id": "f994a300",
        "outputId": "a66c54d9-01fb-4b17-bbd7-b11de1374d64"
      },
      "outputs": [
        {
          "name": "stdout",
          "output_type": "stream",
          "text": [
            "✅ All imports successful!\n"
          ]
        }
      ],
      "source": [
        "# Import all libraries\n",
        "import gradio as gr\n",
        "from sklearn.model_selection import train_test_split\n",
        "from sklearn.metrics import classification_report, confusion_matrix, accuracy_score\n",
        "from tensorflow.keras.callbacks import ModelCheckpoint, EarlyStopping, ReduceLROnPlateau\n",
        "from tensorflow.keras.optimizers import Adam\n",
        "from tensorflow.keras.preprocessing.image import ImageDataGenerator\n",
        "from tensorflow.keras.applications import DenseNet121\n",
        "from tensorflow.keras import layers, models\n",
        "from tensorflow import keras\n",
        "import tensorflow as tf\n",
        "import os\n",
        "import numpy as np\n",
        "import pandas as pd\n",
        "import matplotlib.pyplot as plt\n",
        "import seaborn as sns\n",
        "import cv2\n",
        "from PIL import Image\n",
        "import warnings\n",
        "warnings.filterwarnings('ignore')\n",
        "\n",
        "\n",
        "print(\"✅ All imports successful!\")"
      ]
    },
    {
      "cell_type": "markdown",
      "id": "81db5bfb",
      "metadata": {
        "id": "81db5bfb"
      },
      "source": [
        "## 📁 PART 1: Mount Drive & Setup Project\n"
      ]
    },
    {
      "cell_type": "code",
      "execution_count": 4,
      "id": "8f754797",
      "metadata": {
        "colab": {
          "base_uri": "https://localhost:8080/"
        },
        "id": "8f754797",
        "outputId": "de575384-7939-4aac-8294-ed777bd09fc6"
      },
      "outputs": [
        {
          "name": "stdout",
          "output_type": "stream",
          "text": [
            "Mounted at /content/drive\n",
            "\n",
            "✅ Google Drive mounted!\n"
          ]
        }
      ],
      "source": [
        "# Mount Google Drive\n",
        "from google.colab import drive\n",
        "drive.mount('/content/drive')\n",
        "\n",
        "print(\"\\n✅ Google Drive mounted!\")"
      ]
    },
    {
      "cell_type": "code",
      "execution_count": 5,
      "id": "084c27ee",
      "metadata": {
        "colab": {
          "base_uri": "https://localhost:8080/"
        },
        "id": "084c27ee",
        "outputId": "c6490481-f7d6-413b-8546-3dd7a5ccf06e"
      },
      "outputs": [
        {
          "name": "stdout",
          "output_type": "stream",
          "text": [
            "📂 Project directory: /content/drive/MyDrive/Zikriya\n",
            "\n",
            "📊 Available datasets:\n",
            "total 12\n",
            "drwx------ 2 root root 4096 Oct 29 17:15 covid_organized\n",
            "drwx------ 2 root root 4096 Oct 29 17:15 lung_organized\n",
            "drwx------ 2 root root 4096 Oct 29 17:10 pneumonia\n"
          ]
        }
      ],
      "source": [
        "# Set up project directories\n",
        "# IMPORTANT: Update this path to match your Google Drive structure!\n",
        "PROJECT_DIR = '/content/drive/MyDrive/Zikriya'\n",
        "\n",
        "# Create directories if they don't exist\n",
        "os.makedirs(f'{PROJECT_DIR}/models', exist_ok=True)\n",
        "os.makedirs(f'{PROJECT_DIR}/results', exist_ok=True)\n",
        "\n",
        "print(f\"📂 Project directory: {PROJECT_DIR}\")\n",
        "print(\"\\n📊 Available datasets:\")\n",
        "!ls -la {PROJECT_DIR}/datasets/"
      ]
    },
    {
      "cell_type": "code",
      "execution_count": 6,
      "id": "69d794c5",
      "metadata": {
        "colab": {
          "base_uri": "https://localhost:8080/"
        },
        "id": "69d794c5",
        "outputId": "2066afe5-9d58-4ee6-c35e-fb490c037ead"
      },
      "outputs": [
        {
          "name": "stdout",
          "output_type": "stream",
          "text": [
            "✅ Project directory configured:\n",
            "   Project: /content/drive/MyDrive/Zikriya\n"
          ]
        }
      ],
      "source": [
        "# Define dataset paths\n",
        "# IMPORTANT: Update this path to match your Google Drive structure!\n",
        "PROJECT_DIR = '/content/drive/MyDrive/Zikriya'\n",
        "\n",
        "print(\"✅ Project directory configured:\")\n",
        "print(f\"   Project: {PROJECT_DIR}\")"
      ]
    },
    {
      "cell_type": "markdown",
      "id": "3d10b029",
      "metadata": {
        "id": "3d10b029"
      },
      "source": [
        "## 🤖 PART 2: Load Models & Build Gradio App\n"
      ]
    },
    {
      "cell_type": "code",
      "execution_count": null,
      "id": "d5dc36de",
      "metadata": {
        "colab": {
          "base_uri": "https://localhost:8080/"
        },
        "id": "d5dc36de",
        "outputId": "39cc49f6-9a32-4b4b-9693-dd284fae713e"
      },
      "outputs": [
        {
          "name": "stdout",
          "output_type": "stream",
          "text": [
            "📦 Loading trained models...\n"
          ]
        },
        {
          "name": "stderr",
          "output_type": "stream",
          "text": [
            "WARNING:absl:Compiled the loaded model, but the compiled metrics have yet to be built. `model.compile_metrics` will be empty until you train or evaluate the model.\n"
          ]
        },
        {
          "name": "stdout",
          "output_type": "stream",
          "text": [
            "✅ Pneumonia model loaded\n"
          ]
        },
        {
          "name": "stderr",
          "output_type": "stream",
          "text": [
            "WARNING:absl:Compiled the loaded model, but the compiled metrics have yet to be built. `model.compile_metrics` will be empty until you train or evaluate the model.\n"
          ]
        },
        {
          "name": "stdout",
          "output_type": "stream",
          "text": [
            "✅ COVID-19 model loaded\n"
          ]
        }
      ],
      "source": [
        "# Load trained models\n",
        "print(\"📦 Loading trained models...\")\n",
        "\n",
        "try:\n",
        "    # IMPORTANT: Update these paths to your .h5 model locations!\n",
        "    pneumonia_model = tf.keras.models.load_model(\n",
        "        # Assuming the .h5 file is named like this\n",
        "        f'{PROJECT_DIR}/models/pneumonia_model_best.h5'\n",
        "    )\n",
        "    print(\"✅ Pneumonia model loaded\")\n",
        "except Exception as e:\n",
        "    print(f\"⚠️ Error loading Pneumonia model: {e}\")\n",
        "    print(\"Please ensure the path to your .h5 model is correct.\")\n",
        "\n",
        "\n",
        "try:\n",
        "    # IMPORTANT: Update these paths to your .h5 model locations!\n",
        "    covid_model = tf.keras.models.load_model(\n",
        "        # Assuming the .h5 file is named like this\n",
        "        f'{PROJECT_DIR}/models/covid_model_best.h5'\n",
        "    )\n",
        "    print(\"✅ COVID-19 model loaded\")\n",
        "except Exception as e:\n",
        "    print(f\"⚠️ Error loading COVID-19 model: {e}\")\n",
        "    print(\"Please ensure the path to your .h5 model is correct.\")"
      ]
    },
    {
      "cell_type": "code",
      "execution_count": 14,
      "id": "bef118fd",
      "metadata": {
        "id": "bef118fd"
      },
      "outputs": [],
      "source": [
        "def preprocess_image(image):\n",
        "    \"\"\"\n",
        "    Preprocess image for prediction.\n",
        "    \"\"\"\n",
        "    # Convert to RGB if needed\n",
        "    if image.mode != 'RGB':\n",
        "        image = image.convert('RGB')\n",
        "\n",
        "    # Resize\n",
        "    image = image.resize((224, 224))\n",
        "\n",
        "    # Convert to array and normalize\n",
        "    img_array = np.array(image) / 255.0\n",
        "    img_array = np.expand_dims(img_array, axis=0)\n",
        "\n",
        "    return img_array"
      ]
    },
    {
      "cell_type": "code",
      "execution_count": null,
      "id": "30bb7d57",
      "metadata": {
        "id": "30bb7d57"
      },
      "outputs": [],
      "source": [
        "def predict_disease(image):\n",
        "    \"\"\"\n",
        "    Main prediction function for Gradio.\n",
        "    \"\"\"\n",
        "    if image is None:\n",
        "        return \"Please upload an X-ray image!\", {}, None\n",
        "\n",
        "    # Preprocess\n",
        "    img = Image.fromarray(image.astype('uint8'), 'RGB')\n",
        "    processed = preprocess_image(img)\n",
        "\n",
        "    # Predict with both models\n",
        "    pneumonia_pred = pneumonia_model.predict(processed, verbose=0)[0][0]\n",
        "    covid_pred = covid_model.predict(processed, verbose=0)[0][0]\n",
        "\n",
        "    # Create results\n",
        "    results = {\n",
        "        \"Normal (Pneumonia Model)\": float(1 - pneumonia_pred),\n",
        "        \"Pneumonia\": float(pneumonia_pred),\n",
        "        \"Normal (COVID Model)\": float(1 - covid_pred),\n",
        "        \"COVID-19\": float(covid_pred)\n",
        "    }\n",
        "\n",
        "    # Determine overall status\n",
        "    max_disease = max(pneumonia_pred, covid_pred)\n",
        "\n",
        "    if max_disease > 0.7:\n",
        "        if pneumonia_pred > covid_pred:\n",
        "            status = f\"⚠️ **PNEUMONIA DETECTED** (Confidence: {pneumonia_pred*100:.1f}%)\"\n",
        "        else:\n",
        "            status = f\"⚠️ **COVID-19 DETECTED** (Confidence: {covid_pred*100:.1f}%)\"\n",
        "    elif max_disease > 0.5:\n",
        "        status = \"⚠️ Possible abnormality detected - consult a doctor\"\n",
        "    else:\n",
        "        status = \"✅ Likely Normal - No significant findings\"\n",
        "\n",
        "    # Create visualization\n",
        "    fig, ax = plt.subplots(figsize=(10, 6))\n",
        "    diseases = list(results.keys())\n",
        "    confidences = list(results.values())\n",
        "    colors = ['green', 'red', 'green', 'orange']\n",
        "\n",
        "    bars = ax.barh(diseases, confidences, color=colors, alpha=0.7)\n",
        "    ax.set_xlabel('Confidence Score', fontsize=12)\n",
        "    ax.set_title('Prediction Results', fontsize=14, fontweight='bold')\n",
        "    ax.set_xlim(0, 1)\n",
        "\n",
        "    # Add value labels\n",
        "    for i, (bar, conf) in enumerate(zip(bars, confidences)):\n",
        "        ax.text(conf + 0.02, i, f'{conf*100:.1f}%',\n",
        "                va='center', fontweight='bold')\n",
        "\n",
        "    plt.tight_layout()\n",
        "\n",
        "    return status, results, fig"
      ]
    },
    {
      "cell_type": "code",
      "execution_count": 10,
      "id": "2fd662d6",
      "metadata": {
        "colab": {
          "base_uri": "https://localhost:8080/"
        },
        "id": "2fd662d6",
        "outputId": "d31a6bfe-acf0-4c85-b973-baba1b1dce26"
      },
      "outputs": [
        {
          "name": "stdout",
          "output_type": "stream",
          "text": [
            "🎨 Creating Gradio interface...\n",
            "✅ Gradio interface ready!\n"
          ]
        }
      ],
      "source": [
        "# Create Gradio Interface\n",
        "print(\"🎨 Creating Gradio interface...\")\n",
        "\n",
        "demo = gr.Interface(\n",
        "    fn=predict_disease,\n",
        "    inputs=gr.Image(label=\"Upload Chest X-ray Image\"),\n",
        "    outputs=[\n",
        "        gr.Textbox(label=\"Diagnosis\", lines=2),\n",
        "        gr.Label(label=\"Confidence Scores\", num_top_classes=4),\n",
        "        gr.Plot(label=\"Detailed Results\")\n",
        "    ],\n",
        "    title=\"🫁 Chest X-ray Disease Detection System\",\n",
        "    description=\"\"\"### AI-Powered Chest X-ray Analysis\n",
        "\n",
        "**Detects:** Pneumonia and COVID-19\n",
        "\n",
        "**How to use:**\n",
        "1. Upload a chest X-ray image (JPG/PNG)\n",
        "2. Wait 2-3 seconds for analysis\n",
        "3. View results with confidence scores\n",
        "\n",
        "⚠️ **Medical Disclaimer:** This is an educational tool. Always consult healthcare professionals for medical diagnosis.\n",
        "\n",
        "**Technology:** DenseNet-121 with Transfer Learning | **Training:** Google Colab GPU\n",
        "    \"\"\",\n",
        "    examples=None,  # You can add example images here\n",
        "    theme=gr.themes.Soft(),\n",
        "    allow_flagging=\"never\"\n",
        ")\n",
        "\n",
        "print(\"✅ Gradio interface ready!\")"
      ]
    },
    {
      "cell_type": "markdown",
      "id": "cd0dd7fe",
      "metadata": {
        "id": "cd0dd7fe"
      },
      "source": [
        "## 🚀 PART 3: Launch the App!\n"
      ]
    },
    {
      "cell_type": "code",
      "execution_count": 11,
      "id": "71bae3b7",
      "metadata": {
        "colab": {
          "base_uri": "https://localhost:8080/",
          "height": 767
        },
        "id": "71bae3b7",
        "outputId": "0af609f7-15a3-4828-e7d8-4820c9d3bb67"
      },
      "outputs": [
        {
          "name": "stdout",
          "output_type": "stream",
          "text": [
            "\n",
            "======================================================================\n",
            "🚀 LAUNCHING GRADIO WEB APP\n",
            "======================================================================\n",
            "\n",
            "📱 Your app will be available at:\n",
            "   1. Local URL (in Colab)\n",
            "   2. Public URL (share with anyone!)\n",
            "\n",
            "Colab notebook detected. To show errors in colab notebook, set debug=True in launch()\n",
            "* Running on public URL: https://74651b5af039c1c3fc.gradio.live\n",
            "\n",
            "This share link expires in 1 week. For free permanent hosting and GPU upgrades, run `gradio deploy` from the terminal in the working directory to deploy to Hugging Face Spaces (https://huggingface.co/spaces)\n"
          ]
        },
        {
          "data": {
            "text/html": [
              "<div><iframe src=\"https://74651b5af039c1c3fc.gradio.live\" width=\"100%\" height=\"500\" allow=\"autoplay; camera; microphone; clipboard-read; clipboard-write;\" frameborder=\"0\" allowfullscreen></iframe></div>"
            ],
            "text/plain": [
              "<IPython.core.display.HTML object>"
            ]
          },
          "metadata": {},
          "output_type": "display_data"
        },
        {
          "data": {
            "text/plain": []
          },
          "execution_count": 11,
          "metadata": {},
          "output_type": "execute_result"
        }
      ],
      "source": [
        "# Launch Gradio app\n",
        "print(\"\\n\" + \"=\"*70)\n",
        "print(\"🚀 LAUNCHING GRADIO WEB APP\")\n",
        "print(\"=\"*70)\n",
        "print(\"\\n📱 Your app will be available at:\")\n",
        "print(\"   1. Local URL (in Colab)\")\n",
        "print(\"   2. Public URL (share with anyone!)\\n\")\n",
        "\n",
        "demo.launch(\n",
        "    share=True,  # Creates public link!\n",
        "    debug=False\n",
        ")"
      ]
    },
    {
      "cell_type": "markdown",
      "id": "e2a22796",
      "metadata": {
        "id": "e2a22796"
      },
      "source": [
        "## 🎉 SUCCESS!\n",
        "\n",
        "### ✅ What You've Accomplished:\n",
        "\n",
        "1. ✅ Loaded pre-trained AI models (Pneumonia & COVID-19)\n",
        "2. ✅ Created beautiful Gradio web app\n",
        "3. ✅ Got shareable public link!\n",
        "\n",
        "### 📱 Share Your App:\n",
        "\n",
        "- Copy the **public URL** from above\n",
        "- Share with friends, colleagues, or anyone interested\n",
        "- Works on mobile phones too!\n",
        "- Link expires in 72 hours (re-run to get new link)\n",
        "\n",
        "### 💾 Model Locations:\n",
        "\n",
        "Your pre-trained models are in Google Drive at:\n",
        "\n",
        "- `MyDrive/Zikriya/models/pneumonia_model_best.h5`\n",
        "- `MyDrive/Zikriya/models/covid_model_best.h5`\n"
      ]
    }
  ],
  "metadata": {
    "accelerator": "GPU",
    "colab": {
      "gpuType": "T4",
      "provenance": []
    },
    "kernelspec": {
      "display_name": "Python 3",
      "name": "python3"
    },
    "language_info": {
      "name": "python"
    }
  },
  "nbformat": 4,
  "nbformat_minor": 5
}
